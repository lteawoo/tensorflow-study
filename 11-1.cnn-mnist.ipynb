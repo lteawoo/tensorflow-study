{
 "cells": [
  {
   "cell_type": "code",
   "execution_count": 3,
   "id": "5674634e-0aea-41db-bd4d-a5edefb6b830",
   "metadata": {},
   "outputs": [],
   "source": [
    "import tensorflow as tf\n",
    "import matplotlib.pyplot as plt\n",
    "import numpy as np"
   ]
  },
  {
   "cell_type": "code",
   "execution_count": 25,
   "id": "846914af-66ee-4768-8d1e-34a6bb61ef7b",
   "metadata": {},
   "outputs": [],
   "source": [
    "mnist = tf.keras.datasets.mnist"
   ]
  },
  {
   "cell_type": "code",
   "execution_count": 27,
   "id": "de00bf8a-1480-40ce-bb2c-7fd823d79fb2",
   "metadata": {},
   "outputs": [],
   "source": [
    "(x_train, y_train), (x_test, y_test) = mnist.load_data() # 정규화가 안되어있어서 0~255사이의 값을 가짐\n",
    "x_train = x_train / 255\n",
    "x_test = x_test / 255\n",
    "x_train = x_train.reshape(x_train.shape[0], 28, 28, 1)\n",
    "x_test = x_test.reshape(x_test.shape[0], 28, 28, 1)\n",
    "\n",
    "# 원-핫 인코딩\n",
    "y_train = tf.keras.utils.to_categorical(y_train, 10)\n",
    "y_test = tf.keras.utils.to_categorical(y_test, 10)"
   ]
  },
  {
   "cell_type": "code",
   "execution_count": 53,
   "id": "1d7caba4-a93e-4093-8258-8bbc5566b4fe",
   "metadata": {},
   "outputs": [
    {
     "name": "stdout",
     "output_type": "stream",
     "text": [
      "Model: \"sequential_19\"\n",
      "_________________________________________________________________\n",
      " Layer (type)                Output Shape              Param #   \n",
      "=================================================================\n",
      " conv2d_33 (Conv2D)          (None, 28, 28, 32)        320       \n",
      "                                                                 \n",
      " max_pooling2d_31 (MaxPooli  (None, 14, 14, 32)        0         \n",
      " ng2D)                                                           \n",
      "                                                                 \n",
      " conv2d_34 (Conv2D)          (None, 14, 14, 64)        18496     \n",
      "                                                                 \n",
      " max_pooling2d_32 (MaxPooli  (None, 7, 7, 64)          0         \n",
      " ng2D)                                                           \n",
      "                                                                 \n",
      " flatten_9 (Flatten)         (None, 3136)              0         \n",
      "                                                                 \n",
      " dense_9 (Dense)             (None, 10)                31370     \n",
      "                                                                 \n",
      "=================================================================\n",
      "Total params: 50186 (196.04 KB)\n",
      "Trainable params: 50186 (196.04 KB)\n",
      "Non-trainable params: 0 (0.00 Byte)\n",
      "_________________________________________________________________\n"
     ]
    }
   ],
   "source": [
    "# hyper parameter\n",
    "learning_rate = 0.001\n",
    "training_epochs = 12\n",
    "batch_size = 128\n",
    "\n",
    "tf.model = tf.keras.Sequential()\n",
    "# Layer1\n",
    "tf.model.add(tf.keras.layers.Conv2D(filters=32, kernel_size=(3, 3), input_shape=(28, 28, 1), activation='relu', padding='same'))\n",
    "tf.model.add(tf.keras.layers.MaxPooling2D(pool_size=(2, 2), padding='same'))\n",
    "\n",
    "# Layer2\n",
    "tf.model.add(tf.keras.layers.Conv2D(filters=64, kernel_size=(3, 3), activation='relu', padding='same'))\n",
    "tf.model.add(tf.keras.layers.MaxPooling2D(pool_size=(2, 2), padding='same'))\n",
    "\n",
    "# Layer3(Fully connected)\n",
    "tf.model.add(tf.keras.layers.Flatten())\n",
    "tf.model.add(tf.keras.layers.Dense(units=10, kernel_initializer='glorot_normal', activation='softmax'))\n",
    "\n",
    "tf.model.compile(loss='categorical_crossentropy', optimizer=tf.keras.optimizers.Adam(learning_rate=learning_rate), metrics=('accuracy'))\n",
    "tf.model.summary()"
   ]
  },
  {
   "cell_type": "code",
   "execution_count": 54,
   "id": "8e161a3d-cd64-40a4-86e8-578fd4f60077",
   "metadata": {},
   "outputs": [
    {
     "name": "stdout",
     "output_type": "stream",
     "text": [
      "Epoch 1/12\n",
      "469/469 [==============================] - 8s 17ms/step - loss: 0.2522 - accuracy: 0.9276\n",
      "Epoch 2/12\n",
      "469/469 [==============================] - 8s 17ms/step - loss: 0.0642 - accuracy: 0.9812\n",
      "Epoch 3/12\n",
      "469/469 [==============================] - 8s 17ms/step - loss: 0.0470 - accuracy: 0.9855\n",
      "Epoch 4/12\n",
      "469/469 [==============================] - 8s 17ms/step - loss: 0.0389 - accuracy: 0.9881\n",
      "Epoch 5/12\n",
      "469/469 [==============================] - 8s 17ms/step - loss: 0.0321 - accuracy: 0.9896\n",
      "Epoch 6/12\n",
      "469/469 [==============================] - 8s 17ms/step - loss: 0.0279 - accuracy: 0.9914\n",
      "Epoch 7/12\n",
      "469/469 [==============================] - 8s 17ms/step - loss: 0.0244 - accuracy: 0.9925\n",
      "Epoch 8/12\n",
      "469/469 [==============================] - 8s 18ms/step - loss: 0.0195 - accuracy: 0.9940\n",
      "Epoch 9/12\n",
      "469/469 [==============================] - 8s 17ms/step - loss: 0.0171 - accuracy: 0.9945\n",
      "Epoch 10/12\n",
      "469/469 [==============================] - 8s 17ms/step - loss: 0.0148 - accuracy: 0.9955\n",
      "Epoch 11/12\n",
      "469/469 [==============================] - 8s 17ms/step - loss: 0.0117 - accuracy: 0.9964\n",
      "Epoch 12/12\n",
      "469/469 [==============================] - 8s 17ms/step - loss: 0.0103 - accuracy: 0.9968\n"
     ]
    },
    {
     "data": {
      "text/plain": [
       "<keras.src.callbacks.History at 0x7f2dac5ece50>"
      ]
     },
     "execution_count": 54,
     "metadata": {},
     "output_type": "execute_result"
    }
   ],
   "source": [
    "tf.model.fit(x_train, y_train, batch_size=batch_size, epochs=training_epochs)"
   ]
  },
  {
   "cell_type": "code",
   "execution_count": 56,
   "id": "9805571f-616b-47d1-a78d-acc21c5e466f",
   "metadata": {},
   "outputs": [
    {
     "name": "stdout",
     "output_type": "stream",
     "text": [
      "313/313 [==============================] - 1s 2ms/step\n",
      "index:  3480\n",
      "actual y:  1\n",
      "predicted y:  1\n",
      "index:  5632\n",
      "actual y:  5\n",
      "predicted y:  5\n",
      "index:  3325\n",
      "actual y:  0\n",
      "predicted y:  0\n",
      "index:  1709\n",
      "actual y:  9\n",
      "predicted y:  5\n",
      "index:  8129\n",
      "actual y:  2\n",
      "predicted y:  2\n",
      "index:  9951\n",
      "actual y:  0\n",
      "predicted y:  0\n",
      "index:  8914\n",
      "actual y:  1\n",
      "predicted y:  1\n",
      "index:  4029\n",
      "actual y:  4\n",
      "predicted y:  4\n",
      "index:  3299\n",
      "actual y:  3\n",
      "predicted y:  3\n",
      "index:  8893\n",
      "actual y:  9\n",
      "predicted y:  9\n",
      "313/313 [==============================] - 1s 2ms/step - loss: 0.0336 - accuracy: 0.9900\n",
      "loss:  0.03362377732992172\n",
      "accuracy:  0.9900000095367432\n"
     ]
    }
   ],
   "source": [
    "import random\n",
    "\n",
    "y_predicted = tf.model.predict(x_test)\n",
    "for x in range(0, 10):\n",
    "    random_index = random.randint(0, x_test.shape[0]-1)\n",
    "    print(\"index: \", random_index)\n",
    "    print(\"actual y: \", np.argmax(y_test[random_index]))\n",
    "    print(\"predicted y: \", np.argmax(y_predicted[random_index]))\n",
    "\n",
    "evaluation = tf.model.evaluate(x_test, y_test)\n",
    "print('loss: ', evaluation[0])\n",
    "print('accuracy: ', evaluation[1])"
   ]
  }
 ],
 "metadata": {
  "kernelspec": {
   "display_name": "Python 3 (ipykernel)",
   "language": "python",
   "name": "python3"
  },
  "language_info": {
   "codemirror_mode": {
    "name": "ipython",
    "version": 3
   },
   "file_extension": ".py",
   "mimetype": "text/x-python",
   "name": "python",
   "nbconvert_exporter": "python",
   "pygments_lexer": "ipython3",
   "version": "3.11.0rc1"
  }
 },
 "nbformat": 4,
 "nbformat_minor": 5
}
