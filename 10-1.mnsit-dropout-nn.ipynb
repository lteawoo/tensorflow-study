{
 "cells": [
  {
   "cell_type": "code",
   "execution_count": 10,
   "id": "88ef8747-6fbf-452e-afcd-79e12327d0b5",
   "metadata": {},
   "outputs": [],
   "source": [
    "import tensorflow as tf\n",
    "import random\n",
    "import numpy as np"
   ]
  },
  {
   "cell_type": "code",
   "execution_count": 4,
   "id": "a872ab67-ebb6-4b64-abf7-dfa0dd167c4d",
   "metadata": {},
   "outputs": [
    {
     "name": "stdout",
     "output_type": "stream",
     "text": [
      "(60000, 28, 28) (10000, 28, 28)\n",
      "(60000, 784) (10000, 784)\n"
     ]
    }
   ],
   "source": [
    "mnist = tf.keras.datasets.mnist\n",
    "nb_classes = 10\n",
    "drop_rate = 0.3\n",
    "\n",
    "(x_train, y_train), (x_test, y_test) = mnist.load_data()\n",
    "x_train, x_test = x_train / 255.0, x_test / 255.0\n",
    "print(x_train.shape, x_test.shape)\n",
    "x_train = x_train.reshape(x_train.shape[0], x_train.shape[1] * x_train.shape[2])\n",
    "x_test = x_test.reshape(x_test.shape[0], x_test.shape[1] * x_test.shape[2])\n",
    "print(x_train.shape, x_test.shape)\n",
    "\n",
    "# change result to one-hot\n",
    "y_train = tf.keras.utils.to_categorical(y_train, 10)\n",
    "y_test = tf.keras.utils.to_categorical(y_test, 10)\n",
    "\n",
    "# # Consider an array of 5 labels out of a set of 3 classes {0, 1, 2}:\n",
    "# array([0, 2, 1, 2, 0])\n",
    "# `to_categorical` converts this into a matrix with as many columns as there are classes. The number of rows\n",
    "#  stays the same. to_categorical(labels)\n",
    "# array([[ 1.,  0.,  0.],\n",
    "#        [ 0.,  0.,  1.],\n",
    "#        [ 0.,  1.,  0.],\n",
    "#        [ 0.,  0.,  1.],\n",
    "#        [ 1.,  0.,  0.]], dtype=float32)"
   ]
  },
  {
   "cell_type": "code",
   "execution_count": 5,
   "id": "65230cda-39ab-413d-91a1-a1d102ed658e",
   "metadata": {},
   "outputs": [
    {
     "name": "stdout",
     "output_type": "stream",
     "text": [
      "Model: \"sequential\"\n",
      "_________________________________________________________________\n",
      " Layer (type)                Output Shape              Param #   \n",
      "=================================================================\n",
      " dense (Dense)               (None, 512)               401920    \n",
      "                                                                 \n",
      " dropout (Dropout)           (None, 512)               0         \n",
      "                                                                 \n",
      " dense_1 (Dense)             (None, 512)               262656    \n",
      "                                                                 \n",
      " dropout_1 (Dropout)         (None, 512)               0         \n",
      "                                                                 \n",
      " dense_2 (Dense)             (None, 512)               262656    \n",
      "                                                                 \n",
      " dropout_2 (Dropout)         (None, 512)               0         \n",
      "                                                                 \n",
      " dense_3 (Dense)             (None, 512)               262656    \n",
      "                                                                 \n",
      " dropout_3 (Dropout)         (None, 512)               0         \n",
      "                                                                 \n",
      " dense_4 (Dense)             (None, 10)                5130      \n",
      "                                                                 \n",
      "=================================================================\n",
      "Total params: 1195018 (4.56 MB)\n",
      "Trainable params: 1195018 (4.56 MB)\n",
      "Non-trainable params: 0 (0.00 Byte)\n",
      "_________________________________________________________________\n"
     ]
    }
   ],
   "source": [
    "# 기존 softmax보다 딥하고 relu 사용하니까 99% 정확도에 loss도 낮음\n",
    "tf.model = tf.keras.Sequential()\n",
    "tf.model.add(tf.keras.layers.Dense(units=512, input_dim=784, activation='relu', kernel_initializer='glorot_normal'))\n",
    "tf.model.add(tf.keras.layers.Dropout(drop_rate))\n",
    "tf.model.add(tf.keras.layers.Dense(units=512, input_dim=512, activation='relu', kernel_initializer='glorot_normal'))\n",
    "tf.model.add(tf.keras.layers.Dropout(drop_rate))\n",
    "tf.model.add(tf.keras.layers.Dense(units=512, input_dim=512, activation='relu', kernel_initializer='glorot_normal'))\n",
    "tf.model.add(tf.keras.layers.Dropout(drop_rate))\n",
    "tf.model.add(tf.keras.layers.Dense(units=512, input_dim=512, activation='relu', kernel_initializer='glorot_normal'))\n",
    "tf.model.add(tf.keras.layers.Dropout(drop_rate))\n",
    "tf.model.add(tf.keras.layers.Dense(units=nb_classes, input_dim=512, activation='softmax', kernel_initializer='glorot_normal'))\n",
    "tf.model.compile(loss='categorical_crossentropy', optimizer=tf.optimizers.Adam(0.001), metrics=['accuracy'])\n",
    "tf.model.summary()"
   ]
  },
  {
   "cell_type": "code",
   "execution_count": 6,
   "id": "297626b7-120d-486f-b31c-c52ed16c5d03",
   "metadata": {},
   "outputs": [
    {
     "name": "stdout",
     "output_type": "stream",
     "text": [
      "Epoch 1/15\n",
      "600/600 [==============================] - 4s 6ms/step - loss: 0.3127 - accuracy: 0.9035\n",
      "Epoch 2/15\n",
      "600/600 [==============================] - 3s 6ms/step - loss: 0.1467 - accuracy: 0.9571\n",
      "Epoch 3/15\n",
      "600/600 [==============================] - 3s 6ms/step - loss: 0.1136 - accuracy: 0.9677\n",
      "Epoch 4/15\n",
      "600/600 [==============================] - 3s 6ms/step - loss: 0.1002 - accuracy: 0.9707\n",
      "Epoch 5/15\n",
      "600/600 [==============================] - 3s 6ms/step - loss: 0.0843 - accuracy: 0.9749\n",
      "Epoch 6/15\n",
      "600/600 [==============================] - 3s 6ms/step - loss: 0.0740 - accuracy: 0.9783\n",
      "Epoch 7/15\n",
      "600/600 [==============================] - 3s 6ms/step - loss: 0.0666 - accuracy: 0.9801\n",
      "Epoch 8/15\n",
      "600/600 [==============================] - 3s 6ms/step - loss: 0.0641 - accuracy: 0.9812\n",
      "Epoch 9/15\n",
      "600/600 [==============================] - 3s 6ms/step - loss: 0.0609 - accuracy: 0.9822\n",
      "Epoch 10/15\n",
      "600/600 [==============================] - 3s 6ms/step - loss: 0.0548 - accuracy: 0.9840\n",
      "Epoch 11/15\n",
      "600/600 [==============================] - 3s 6ms/step - loss: 0.0495 - accuracy: 0.9847\n",
      "Epoch 12/15\n",
      "600/600 [==============================] - 3s 6ms/step - loss: 0.0507 - accuracy: 0.9853\n",
      "Epoch 13/15\n",
      "600/600 [==============================] - 3s 6ms/step - loss: 0.0482 - accuracy: 0.9861\n",
      "Epoch 14/15\n",
      "600/600 [==============================] - 3s 6ms/step - loss: 0.0459 - accuracy: 0.9866\n",
      "Epoch 15/15\n",
      "600/600 [==============================] - 3s 6ms/step - loss: 0.0422 - accuracy: 0.9877\n"
     ]
    }
   ],
   "source": [
    "traning_epochs = 15 # 전체 데이터셋을 한번 돌면 1epochs\n",
    "batch_size = 100 # 한번에 몇개씩 학습\n",
    "\n",
    "history = tf.model.fit(x_train, y_train, batch_size=batch_size, epochs=traning_epochs)"
   ]
  },
  {
   "cell_type": "code",
   "execution_count": 11,
   "id": "e38e71d3-3c90-47d4-b3b7-cab2741bf78c",
   "metadata": {},
   "outputs": [
    {
     "name": "stdout",
     "output_type": "stream",
     "text": [
      "313/313 [==============================] - 0s 1ms/step\n",
      "index:  9977 actual y:  4 predicted y:  4\n",
      "index:  1093 actual y:  8 predicted y:  8\n",
      "index:  6178 actual y:  8 predicted y:  8\n",
      "index:  5324 actual y:  7 predicted y:  7\n",
      "index:  1855 actual y:  8 predicted y:  8\n",
      "index:  4190 actual y:  1 predicted y:  1\n",
      "index:  279 actual y:  1 predicted y:  1\n",
      "index:  553 actual y:  8 predicted y:  8\n",
      "index:  9224 actual y:  4 predicted y:  4\n",
      "index:  9385 actual y:  8 predicted y:  8\n",
      "313/313 [==============================] - 0s 1ms/step - loss: 0.0819 - accuracy: 0.9816\n",
      "loss:  0.08189728111028671\n",
      "accuracy 0.9815999865531921\n"
     ]
    }
   ],
   "source": [
    "y_predicted = tf.model.predict(x_test)\n",
    "for x in range(0, 10):\n",
    "    random_index = random.randint(0, x_test.shape[0]-1)\n",
    "    print(\"index: \", random_index,\n",
    "          \"actual y: \", np.argmax(y_test[random_index]),\n",
    "          \"predicted y: \", np.argmax(y_predicted[random_index]))\n",
    "\n",
    "# evaluate test set\n",
    "evaluation = tf.model.evaluate(x_test, y_test)\n",
    "print('loss: ', evaluation[0])\n",
    "print('accuracy', evaluation[1])"
   ]
  }
 ],
 "metadata": {
  "kernelspec": {
   "display_name": "Python 3 (ipykernel)",
   "language": "python",
   "name": "python3"
  },
  "language_info": {
   "codemirror_mode": {
    "name": "ipython",
    "version": 3
   },
   "file_extension": ".py",
   "mimetype": "text/x-python",
   "name": "python",
   "nbconvert_exporter": "python",
   "pygments_lexer": "ipython3",
   "version": "3.11.0rc1"
  }
 },
 "nbformat": 4,
 "nbformat_minor": 5
}
