{
 "cells": [
  {
   "cell_type": "code",
   "execution_count": 2,
   "id": "aef44ff0-2e4d-477f-8a5f-e7fe9bafa5d9",
   "metadata": {},
   "outputs": [],
   "source": [
    "import numpy as np"
   ]
  },
  {
   "cell_type": "code",
   "execution_count": 3,
   "id": "fdb34b9b-af27-4865-9c40-80f5fc1dc3b6",
   "metadata": {},
   "outputs": [
    {
     "name": "stdout",
     "output_type": "stream",
     "text": [
      "두 벡터의 합 : [9 6 8]\n",
      "두 벡터의 차 : [7 2 2]\n"
     ]
    }
   ],
   "source": [
    "# 벡터나 행렬의 덧셈과 뺄셈은 같은 위치의 원소끼리 연산하면 된다.\n",
    "# 이러한 연산을 요소별 연산(element-wise)라고 한다.\n",
    "A = np.array([8, 4, 5])\n",
    "B = np.array([1, 2, 3])\n",
    "print('두 벡터의 합 :',A+B)\n",
    "print('두 벡터의 차 :',A-B)"
   ]
  },
  {
   "cell_type": "code",
   "execution_count": 4,
   "id": "3ed0f78f-9eb1-41eb-a860-f4481c86adb6",
   "metadata": {},
   "outputs": [
    {
     "name": "stdout",
     "output_type": "stream",
     "text": [
      "두 행렬의 합 :\n",
      "[[15 26 37 48]\n",
      " [51 62 73 84]]\n",
      "두 행렬의 차 :\n",
      "[[ 5 14 23 32]\n",
      " [49 58 67 76]]\n"
     ]
    }
   ],
   "source": [
    "# 행렬도 마찬가지 element-wise 진행\n",
    "A = np.array([[10, 20, 30, 40], [50, 60, 70, 80]])\n",
    "B = np.array([[5, 6, 7, 8],[1, 2, 3, 4]])\n",
    "print('두 행렬의 합 :')\n",
    "print(A + B)\n",
    "print('두 행렬의 차 :')\n",
    "print(A - B)"
   ]
  },
  {
   "cell_type": "code",
   "execution_count": 5,
   "id": "bd072409-99da-4dae-9e70-53d28972d08d",
   "metadata": {},
   "outputs": [
    {
     "name": "stdout",
     "output_type": "stream",
     "text": [
      "두 벡터의 내적 : 32\n"
     ]
    }
   ],
   "source": [
    "# 벡터의 점곱(dot-product) 또는 내적(inner-product)\n",
    "# 벡터의 내적은 연산을 점(dot)으로 표현한다.\n",
    "# 내적이 성립하려면 차원이 같아야한다. 두 벡터 중 앞의 벡터가 행벡터(가로 방향 벡터), 뒤의 벡터가 열벡터(세로 방향 벡터)여야 한다.\n",
    "# 벡터의 내적의 결과는 스칼라가 된다.\n",
    "A = np.array([1, 2, 3])\n",
    "B = np.array([4, 5, 6])\n",
    "print('두 벡터의 내적 :', np.dot(A, B))"
   ]
  },
  {
   "cell_type": "code",
   "execution_count": 8,
   "id": "eeaf6e6b-58da-46c9-b15d-16dcb994aa57",
   "metadata": {},
   "outputs": [
    {
     "name": "stdout",
     "output_type": "stream",
     "text": [
      "두 행렬의 행렬곱 :\n",
      "[[23 31]\n",
      " [34 46]]\n"
     ]
    }
   ],
   "source": [
    "# 행렬의 곱셉은 왼쪽 행렬의 행벡터(가로 방향 벡터)와 오른쪽 행렬의 열벡터(세로 방향 벡터)의 내적이 결과 행렬의 원소가 된다.\n",
    "A = np.array([[1, 3],[2, 4]])\n",
    "B = np.array([[5, 7],[6, 8]])\n",
    "print('두 행렬의 행렬곱 :')\n",
    "print(np.matmul(A, B)) # [[1*5 + 3*6 1*7 + 3*8], [2*5 + 4*6 2*7 + 4*8]]\n",
    "# 두 행렬의 곱 A X B가 성립되기 위해서는 행렬 A의 열의 개수와 행렬 B의 행의 개수는 같아야 한다.\n",
    "# 두 행렬의 곱 A X B의 결과로 나온 행렬 AB의 크기는 A의 행의 개수와 B의 열의 개수를 가진다."
   ]
  },
  {
   "cell_type": "code",
   "execution_count": null,
   "id": "e95237a3-1281-4309-8881-0e5a955ecfc2",
   "metadata": {},
   "outputs": [],
   "source": [
    "# 독립 변수 x가 n개인 다중 선형 회귀 수식\n",
    "# y = w1x1 + w2x2 + ... + wnxn + b는 입력 벡터[x1...xn]과 가중치 벡터[w1...wn]의 내적으로 표현 가능\n",
    "# y = [x1 x2 x3... xn] * [w1 w2 w3... wn] + b = x1w1 + x2w2 ... + xnwn +b 가 된다. (입력, 가중치의 순서가 바뀌어도 상관은 없다)\n",
    "# 샘플의 개수가 많을 경우에는 행렬의 곱셈으로 표현 가능"
   ]
  }
 ],
 "metadata": {
  "kernelspec": {
   "display_name": "Python 3 (ipykernel)",
   "language": "python",
   "name": "python3"
  },
  "language_info": {
   "codemirror_mode": {
    "name": "ipython",
    "version": 3
   },
   "file_extension": ".py",
   "mimetype": "text/x-python",
   "name": "python",
   "nbconvert_exporter": "python",
   "pygments_lexer": "ipython3",
   "version": "3.11.0rc1"
  }
 },
 "nbformat": 4,
 "nbformat_minor": 5
}
