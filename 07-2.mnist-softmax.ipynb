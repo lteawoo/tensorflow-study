{
 "cells": [
  {
   "cell_type": "code",
   "execution_count": 23,
   "id": "1807885e-d0e6-488b-9f5e-b324022f6a82",
   "metadata": {},
   "outputs": [],
   "source": [
    "import tensorflow as tf"
   ]
  },
  {
   "cell_type": "code",
   "execution_count": 24,
   "id": "d78f037c-696d-49fc-b618-306320c4a0f7",
   "metadata": {},
   "outputs": [
    {
     "name": "stdout",
     "output_type": "stream",
     "text": [
      "(60000, 28, 28) (10000, 28, 28)\n",
      "(60000, 784) (10000, 784)\n",
      "Model: \"sequential_1\"\n",
      "_________________________________________________________________\n",
      " Layer (type)                Output Shape              Param #   \n",
      "=================================================================\n",
      " dense_1 (Dense)             (None, 10)                7850      \n",
      "                                                                 \n",
      "=================================================================\n",
      "Total params: 7850 (30.66 KB)\n",
      "Trainable params: 7850 (30.66 KB)\n",
      "Non-trainable params: 0 (0.00 Byte)\n",
      "_________________________________________________________________\n"
     ]
    }
   ],
   "source": [
    "mnist = tf.keras.datasets.mnist\n",
    "nb_classes = 10\n",
    "\n",
    "(x_train, y_train), (x_test, y_test) = mnist.load_data()\n",
    "x_train, x_test = x_train / 255.0, x_test / 255.0\n",
    "print(x_train.shape, x_test.shape)\n",
    "x_train = x_train.reshape(x_train.shape[0], x_train.shape[1] * x_train.shape[2])\n",
    "x_test = x_test.reshape(x_test.shape[0], x_test.shape[1] * x_test.shape[2])\n",
    "print(x_train.shape, x_test.shape)\n",
    "\n",
    "# change result to one-hot\n",
    "y_train = tf.keras.utils.to_categorical(y_train, 10)\n",
    "y_test = tf.keras.utils.to_categorical(y_test, 10)\n",
    "\n",
    "# # Consider an array of 5 labels out of a set of 3 classes {0, 1, 2}:\n",
    "# array([0, 2, 1, 2, 0])\n",
    "# `to_categorical` converts this into a matrix with as many columns as there are classes. The number of rows\n",
    "#  stays the same. to_categorical(labels)\n",
    "# array([[ 1.,  0.,  0.],\n",
    "#        [ 0.,  0.,  1.],\n",
    "#        [ 0.,  1.,  0.],\n",
    "#        [ 0.,  0.,  1.],\n",
    "#        [ 1.,  0.,  0.]], dtype=float32)\n",
    "\n",
    "tf.model = tf.keras.Sequential()\n",
    "tf.model.add(tf.keras.layers.Dense(units=10, input_dim=784, activation='softmax'))\n",
    "tf.model.compile(loss='categorical_crossentropy', optimizer=tf.optimizers.Adam(0.001), metrics=['accuracy'])\n",
    "tf.model.summary()"
   ]
  },
  {
   "cell_type": "code",
   "execution_count": 25,
   "id": "817c4753-788c-4a16-a44e-25cdb471edb7",
   "metadata": {},
   "outputs": [
    {
     "name": "stdout",
     "output_type": "stream",
     "text": [
      "Epoch 1/15\n",
      "600/600 [==============================] - 1s 822us/step - loss: 0.6392 - accuracy: 0.8406\n",
      "Epoch 2/15\n",
      "600/600 [==============================] - 0s 823us/step - loss: 0.3474 - accuracy: 0.9060\n",
      "Epoch 3/15\n",
      "600/600 [==============================] - 0s 809us/step - loss: 0.3102 - accuracy: 0.9136\n",
      "Epoch 4/15\n",
      "600/600 [==============================] - 1s 848us/step - loss: 0.2930 - accuracy: 0.9185\n",
      "Epoch 5/15\n",
      "600/600 [==============================] - 1s 886us/step - loss: 0.2826 - accuracy: 0.9211\n",
      "Epoch 6/15\n",
      "600/600 [==============================] - 0s 805us/step - loss: 0.2753 - accuracy: 0.9235\n",
      "Epoch 7/15\n",
      "600/600 [==============================] - 1s 904us/step - loss: 0.2697 - accuracy: 0.9254\n",
      "Epoch 8/15\n",
      "600/600 [==============================] - 0s 831us/step - loss: 0.2658 - accuracy: 0.9260\n",
      "Epoch 9/15\n",
      "600/600 [==============================] - 0s 788us/step - loss: 0.2624 - accuracy: 0.9270\n",
      "Epoch 10/15\n",
      "600/600 [==============================] - 0s 767us/step - loss: 0.2595 - accuracy: 0.9282\n",
      "Epoch 11/15\n",
      "600/600 [==============================] - 0s 794us/step - loss: 0.2573 - accuracy: 0.9284\n",
      "Epoch 12/15\n",
      "600/600 [==============================] - 0s 813us/step - loss: 0.2548 - accuracy: 0.9297\n",
      "Epoch 13/15\n",
      "600/600 [==============================] - 0s 811us/step - loss: 0.2529 - accuracy: 0.9301\n",
      "Epoch 14/15\n",
      "600/600 [==============================] - 0s 815us/step - loss: 0.2512 - accuracy: 0.9312\n",
      "Epoch 15/15\n",
      "600/600 [==============================] - 0s 816us/step - loss: 0.2498 - accuracy: 0.9312\n"
     ]
    }
   ],
   "source": [
    "traning_epochs = 15 # 전체 데이터셋을 한번 돌면 1epochs\n",
    "batch_size = 100 # 한번에 몇개씩 학습\n",
    "\n",
    "history = tf.model.fit(x_train, y_train, batch_size=batch_size, epochs=traning_epochs)"
   ]
  },
  {
   "cell_type": "code",
   "execution_count": 35,
   "id": "70f03465-c178-4d4b-9277-654570e6f49f",
   "metadata": {},
   "outputs": [
    {
     "name": "stdout",
     "output_type": "stream",
     "text": [
      "313/313 [==============================] - 0s 585us/step\n",
      "Prediction: \n",
      " [[2.44658872e-06 1.06685095e-11 5.51654466e-06 ... 9.95347917e-01\n",
      "  1.38022224e-05 2.62919086e-04]\n",
      " [1.92976149e-04 3.00435340e-06 9.93054926e-01 ... 8.76845198e-18\n",
      "  2.99366402e-05 4.27843457e-14]\n",
      " [1.31496336e-06 9.79096234e-01 1.25107989e-02 ... 7.17356743e-04\n",
      "  3.00412369e-03 1.90150953e-04]\n",
      " ...\n",
      " [1.37775382e-08 1.27187807e-08 5.06434480e-06 ... 1.54760422e-03\n",
      "  6.76120445e-03 1.73230246e-02]\n",
      " [1.24087734e-07 4.88148430e-07 2.66411490e-07 ... 8.67445848e-08\n",
      "  7.33070681e-03 1.15412902e-07]\n",
      " [7.81161077e-07 2.15234189e-14 2.92792429e-05 ... 2.17241250e-13\n",
      "  1.20223822e-08 2.02749102e-11]]\n",
      "[1. 0. 0. 0. 0. 0. 0. 0. 0. 0.]\n",
      "1875/1875 [==============================] - 1s 608us/step - loss: 0.2446 - accuracy: 0.9323\n",
      "Accuracy:  0.9323166608810425\n"
     ]
    }
   ],
   "source": [
    "predictions = tf.model.predict(x_test)\n",
    "print('Prediction: \\n', predictions)\n",
    "\n",
    "score = tf.model.evaluate(x_train, y_train)\n",
    "print('Accuracy: ', score[1])"
   ]
  }
 ],
 "metadata": {
  "kernelspec": {
   "display_name": "Python 3 (ipykernel)",
   "language": "python",
   "name": "python3"
  },
  "language_info": {
   "codemirror_mode": {
    "name": "ipython",
    "version": 3
   },
   "file_extension": ".py",
   "mimetype": "text/x-python",
   "name": "python",
   "nbconvert_exporter": "python",
   "pygments_lexer": "ipython3",
   "version": "3.11.0rc1"
  }
 },
 "nbformat": 4,
 "nbformat_minor": 5
}
