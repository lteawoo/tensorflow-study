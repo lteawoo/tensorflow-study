{
 "cells": [
  {
   "cell_type": "code",
   "execution_count": 8,
   "id": "2876e216-7e1d-4d87-9ad8-5bd1f103b1a6",
   "metadata": {},
   "outputs": [],
   "source": [
    "from tensorflow.keras.layers import SimpleRNN\n",
    "from tensorflow.keras.models import Sequential\n",
    "\n",
    "# hidden_units: 은닉의 상태의 크기를 정의. 메모리 셀이 다음 시점의 메모리 셀과 출력층으로 보내는 값의 크기(output_dim)와도 동일\n",
    "hidden_units = 128 # 중소형 모델의 경우 보통 128, 256, 512, 1024 등의 값을 가짐\n",
    "model = Sequential()\n",
    "model.add(SimpleRNN(hidden_units))\n",
    "\n",
    "# 추가 인자를 사용할 때\n",
    "M = timesteps = 5\n",
    "N = input_dim = 5\n",
    "model.add(SimpleRNN(hidden_units, input_shape=(timesteps, input_dim)))\n",
    "model.add(SimpleRNN(hidden_units, input_length=M, input_dim=N))\n",
    "# timestpes = 입력 시퀀스의 길이 = input_length 시점의 수\n",
    "# input_dim = 입력의 크기\n",
    "# RNN 층은 (batch_size, timesteps, input_dim) 크기의 3D 텐서를 입력으로 받음\n"
   ]
  },
  {
   "cell_type": "code",
   "execution_count": null,
   "id": "2dc1e1d2-47b7-42f1-8bdd-41b6310f909f",
   "metadata": {},
   "outputs": [],
   "source": [
    "# RNN 층은 사용자의 설정에 따라 두 가지 종류의 출력을 내보냅니다. \n",
    "# 메모리 셀의 최종 시점의 은닉 상태만을 리턴하고자 한다면 (batch_size, output_dim) 크기의 2D 텐서를 리턴합니다. \n",
    "# 하지만, 메모리 셀의 각 시점(time step)의 은닉 상태값들을 모아서 전체 시퀀스를 리턴하고자 한다면 (batch_size, timesteps, output_dim) 크기의 3D 텐서를 리턴합니다. \n",
    "# 이는 RNN 층의 return_sequences 매개 변수에 True를 설정하여 설정이 가능합니다.\n",
    "# output_dim은 앞서 코드에서 정의한 hidden_units의 값으로 설정\n"
   ]
  },
  {
   "cell_type": "code",
   "execution_count": 9,
   "id": "cb0a2aa0-2162-4957-9407-0fd3a5bc2809",
   "metadata": {},
   "outputs": [
    {
     "name": "stdout",
     "output_type": "stream",
     "text": [
      "Model: \"sequential_7\"\n",
      "_________________________________________________________________\n",
      " Layer (type)                Output Shape              Param #   \n",
      "=================================================================\n",
      " simple_rnn_11 (SimpleRNN)   (None, 3)                 42        \n",
      "                                                                 \n",
      "=================================================================\n",
      "Total params: 42 (168.00 Byte)\n",
      "Trainable params: 42 (168.00 Byte)\n",
      "Non-trainable params: 0 (0.00 Byte)\n",
      "_________________________________________________________________\n"
     ]
    }
   ],
   "source": [
    "from tensorflow.keras.models import Sequential\n",
    "from tensorflow.keras.layers import SimpleRNN\n",
    "\n",
    "model = Sequential()\n",
    "model.add(SimpleRNN(3, input_shape=(2,10)))\n",
    "# model.add(SimpleRNN(3, input_length=2, input_dim=10))와 동일함.\n",
    "model.summary()\n",
    "\n",
    "# 출력이 (batch_size, output_dim) 크기의 2D 텐서일 때, output_dim은 hidden_units의 값인 3, batch_size는 모르므로 (None, 3)이 된다."
   ]
  },
  {
   "cell_type": "code",
   "execution_count": 13,
   "id": "64bc9a7d-e101-498c-bf7f-01d1c6b72643",
   "metadata": {},
   "outputs": [
    {
     "name": "stdout",
     "output_type": "stream",
     "text": [
      "Model: \"sequential_11\"\n",
      "_________________________________________________________________\n",
      " Layer (type)                Output Shape              Param #   \n",
      "=================================================================\n",
      " simple_rnn_15 (SimpleRNN)   (8, 3)                    42        \n",
      "                                                                 \n",
      "=================================================================\n",
      "Total params: 42 (168.00 Byte)\n",
      "Trainable params: 42 (168.00 Byte)\n",
      "Non-trainable params: 0 (0.00 Byte)\n",
      "_________________________________________________________________\n"
     ]
    }
   ],
   "source": [
    "model = Sequential()\n",
    "model.add(SimpleRNN(3, batch_input_shape=(8,2,10)))\n",
    "model.summary()\n",
    "\n",
    "#batch_size를 8로 기재하면 출력의 크기가 (8, 3)\n",
    "# return_sequences가 false이므로 (batch_size, output_dim)이 출력값=> 마지막 시점(timesteps)의 메모리셀의 은닉상태값"
   ]
  },
  {
   "cell_type": "code",
   "execution_count": 14,
   "id": "1bf7fb4b-32ad-412f-8fda-1bc58d396682",
   "metadata": {},
   "outputs": [
    {
     "name": "stdout",
     "output_type": "stream",
     "text": [
      "Model: \"sequential_12\"\n",
      "_________________________________________________________________\n",
      " Layer (type)                Output Shape              Param #   \n",
      "=================================================================\n",
      " simple_rnn_16 (SimpleRNN)   (8, 2, 3)                 42        \n",
      "                                                                 \n",
      "=================================================================\n",
      "Total params: 42 (168.00 Byte)\n",
      "Trainable params: 42 (168.00 Byte)\n",
      "Non-trainable params: 0 (0.00 Byte)\n",
      "_________________________________________________________________\n"
     ]
    }
   ],
   "source": [
    "model = Sequential()\n",
    "model.add(SimpleRNN(3, batch_input_shape=(8,2,10), return_sequences=True))\n",
    "model.summary()\n",
    "\n",
    "# return_sequences 를 true로하면 (batch_size, timesteps, output_dim) 3차원 텐서가 출력값\n",
    "# (8, 2, 3)을 출력한다"
   ]
  }
 ],
 "metadata": {
  "kernelspec": {
   "display_name": "Python 3 (ipykernel)",
   "language": "python",
   "name": "python3"
  },
  "language_info": {
   "codemirror_mode": {
    "name": "ipython",
    "version": 3
   },
   "file_extension": ".py",
   "mimetype": "text/x-python",
   "name": "python",
   "nbconvert_exporter": "python",
   "pygments_lexer": "ipython3",
   "version": "3.11.0rc1"
  }
 },
 "nbformat": 4,
 "nbformat_minor": 5
}
