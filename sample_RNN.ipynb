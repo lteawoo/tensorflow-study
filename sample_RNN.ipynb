{
 "cells": [
  {
   "cell_type": "code",
   "execution_count": 7,
   "id": "cb8e949d-fd97-493d-9a76-5e4d27bee22a",
   "metadata": {},
   "outputs": [
    {
     "name": "stdout",
     "output_type": "stream",
     "text": [
      "(10, 4) [[0.08730264 0.61156783 0.7023932  0.36741394]\n",
      " [0.82420703 0.04976466 0.5420197  0.51188894]\n",
      " [0.5483583  0.93411287 0.40963053 0.01829452]\n",
      " [0.69216863 0.65857298 0.58681905 0.13659296]\n",
      " [0.82985502 0.55482689 0.40088913 0.58383458]\n",
      " [0.0242581  0.73795421 0.5418142  0.99291021]\n",
      " [0.05626686 0.09522674 0.66189945 0.12315143]\n",
      " [0.45004529 0.83794137 0.44052836 0.14118463]\n",
      " [0.04324564 0.01138639 0.59190572 0.86837208]\n",
      " [0.04228984 0.39137727 0.47124804 0.93700594]] (8,) [0. 0. 0. 0. 0. 0. 0. 0.]\n"
     ]
    }
   ],
   "source": [
    "import numpy as np\n",
    "\n",
    "timesteps = 10 # 주로 문장의 길이\n",
    "input_dim = 4 # 주로 단어 벡터의 차원\n",
    "hidden_units = 8 # 은닉상태의 크기, 메모리셀의 용량\n",
    "\n",
    "# 입력에 해당되는 2D 텐서\n",
    "inputs = np.random.random((timesteps, input_dim))\n",
    "\n",
    "# 초기 은닉 상태는 0(벡터)로 초기화\n",
    "hidden_state_t = np.zeros((hidden_units,))\n",
    "\n",
    "print(inputs.shape, inputs, hidden_state_t.shape, hidden_state_t)\n",
    "# 은닉 상태의 크기를 8로 정의하였으니, 8차원을 가지는 0의 값으로 구성된 벡터가출력"
   ]
  },
  {
   "cell_type": "code",
   "execution_count": 12,
   "id": "0b134af3-b2f7-4476-83cd-04618e7b9b14",
   "metadata": {},
   "outputs": [
    {
     "name": "stdout",
     "output_type": "stream",
     "text": [
      "가중치 Wx의 크기:  (8, 4)\n",
      "가중치 Wh의 크기:  (8, 8)\n",
      "편향 b의 크기:  (8,)\n"
     ]
    }
   ],
   "source": [
    "Wx = np.random.random((hidden_units, input_dim)) # (8, 4)크기의 2D 텐서 생성, 입력 가중치\n",
    "Wh = np.random.random((hidden_units, hidden_units)) # (8, 8) 크기의 2D 텐서 생성, 은닉 상태 가중치\n",
    "b = np.random.random((hidden_units,)) # (8,)크기의 1D 텐서 생성. 이값은 평향(bias)\n",
    "\n",
    "print('가중치 Wx의 크기: ', Wx.shape)\n",
    "print('가중치 Wh의 크기: ', Wh.shape)\n",
    "print('편향 b의 크기: ', b.shape)\n",
    "\n",
    "# 가중치와 편향의 크기\n",
    "# Wx는 (은닉 상태의 크기 × 입력의 차원)\n",
    "# Wh는 (은닉 상태의 크기 × 은닉 상태의 크기)\n",
    "# b는 (은닉 상태의 크기)의 크기"
   ]
  },
  {
   "cell_type": "code",
   "execution_count": 15,
   "id": "e3454b2e-3fbb-474f-bb79-3f6f35444d0f",
   "metadata": {},
   "outputs": [
    {
     "name": "stdout",
     "output_type": "stream",
     "text": [
      "모든 시점의 은닉 상태: \n",
      "[[0.99999948 0.99972809 0.99998585 0.99998901 0.99982332 0.9997323\n",
      "  0.99980594 0.99997808]\n",
      " [0.99999952 0.9997442  0.99998288 0.99999573 0.99973103 0.99952528\n",
      "  0.99991201 0.99997832]\n",
      " [0.99999932 0.99974647 0.99998639 0.99999254 0.99981527 0.99973479\n",
      "  0.99983613 0.9999785 ]\n",
      " [0.99999949 0.99976914 0.99998909 0.99999513 0.99984564 0.99971477\n",
      "  0.99989598 0.99998276]\n",
      " [0.99999971 0.99984984 0.99999059 0.99999647 0.99980335 0.99979672\n",
      "  0.99994887 0.99998781]\n",
      " [0.99999981 0.9998722  0.99999173 0.99999159 0.99982296 0.99989319\n",
      "  0.99992703 0.99998934]\n",
      " [0.99999847 0.99932672 0.99995283 0.99997963 0.99962057 0.9990201\n",
      "  0.99934011 0.99993185]\n",
      " [0.99999936 0.99974498 0.99998558 0.99999175 0.99980218 0.9997315\n",
      "  0.99983149 0.99997797]\n",
      " [0.99999952 0.99969266 0.9999737  0.99998698 0.99962693 0.99957381\n",
      "  0.9997997  0.99996922]\n",
      " [0.99999967 0.99979492 0.99998294 0.99998854 0.99969696 0.9997757\n",
      "  0.9998661  0.99997986]]\n"
     ]
    }
   ],
   "source": [
    "# 모든 시점의 은닉상태 출력, RNN 동작\n",
    "total_hidden_states = []\n",
    "\n",
    "# 각 시점 별 입력값.\n",
    "for input_t in inputs:\n",
    "    # Wx * Xt + Wh * Ht-1 + b(bias)\n",
    "    output_t = np.tanh(np.dot(Wx, input_t) + np.dot(Wh, hidden_state_t) + b)\n",
    "\n",
    "    # 각 시점 t별 메모리 셀의 출력의 크기는 (timestep t, output_dim)\n",
    "    # 각 시점의 은닉 상태의 값을 계속해서 누적\n",
    "    total_hidden_states.append(list(output_t))\n",
    "    hidden_state_t = output_t\n",
    "\n",
    "# 출력 시 값을 깔끔하게 해주는 용도.\n",
    "total_hidden_states = np.stack(total_hidden_states, axis = 0)\n",
    "\n",
    "# (timesteps, output_dim)\n",
    "print('모든 시점의 은닉 상태: ')\n",
    "print(total_hidden_states)"
   ]
  }
 ],
 "metadata": {
  "kernelspec": {
   "display_name": "Python 3 (ipykernel)",
   "language": "python",
   "name": "python3"
  },
  "language_info": {
   "codemirror_mode": {
    "name": "ipython",
    "version": 3
   },
   "file_extension": ".py",
   "mimetype": "text/x-python",
   "name": "python",
   "nbconvert_exporter": "python",
   "pygments_lexer": "ipython3",
   "version": "3.11.0rc1"
  }
 },
 "nbformat": 4,
 "nbformat_minor": 5
}
