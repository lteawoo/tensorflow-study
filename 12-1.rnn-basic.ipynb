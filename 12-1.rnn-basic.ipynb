{
 "cells": [
  {
   "cell_type": "code",
   "execution_count": 38,
   "id": "11df434c-af00-424f-965d-e9973378a04a",
   "metadata": {},
   "outputs": [],
   "source": [
    "import numpy as np\n",
    "import tensorflow as tf\n",
    "import pprint as pp"
   ]
  },
  {
   "cell_type": "code",
   "execution_count": 42,
   "id": "0251280c-8e43-4ae8-8b2f-6e0412adf91e",
   "metadata": {},
   "outputs": [
    {
     "name": "stdout",
     "output_type": "stream",
     "text": [
      "(1, 1, 4)\n",
      "[[[ 0.07003943 -0.12263874]]]\n"
     ]
    }
   ],
   "source": [
    "# One Cell RNN input_dim (4) 4글자 -> output dim (2)로 설정\n",
    "hidden_size = 2\n",
    "x_data = np.array([[[1, 0, 0, 0]]], dtype=np.float32)\n",
    "print(x_data.shape)\n",
    "cell = tf.keras.layers.LSTMCell(units=hidden_size)\n",
    "layer = tf.keras.layers.RNN(cell=cell, return_sequences=True)\n",
    "whole_seq_output = layer(x_data)\n",
    "\n",
    "print(whole_seq_output.numpy()) # hidden_size가 2개라서 2개의 결과값이 출력, (1, 1, 2)의 형태를 띔"
   ]
  },
  {
   "cell_type": "code",
   "execution_count": 41,
   "id": "b3a1632a-8f3c-45e7-bd49-d5fb0ef53609",
   "metadata": {},
   "outputs": [
    {
     "name": "stdout",
     "output_type": "stream",
     "text": [
      "(1, 5, 4)\n",
      "array([[[1., 0., 0., 0.],\n",
      "        [0., 1., 0., 0.],\n",
      "        [0., 0., 1., 0.],\n",
      "        [0., 0., 1., 0.],\n",
      "        [0., 0., 0., 1.]]], dtype=float32)\n",
      "[[[-0.15294228 -0.09885784]\n",
      "  [-0.19666603  0.01066832]\n",
      "  [-0.21565965 -0.07234113]\n",
      "  [-0.2283888  -0.11515839]\n",
      "  [-0.21254335 -0.31121176]]]\n"
     ]
    }
   ],
   "source": [
    "# One hot encoding\n",
    "h = [1, 0, 0, 0]\n",
    "e = [0, 1, 0, 0]\n",
    "l = [0, 0, 1, 0]\n",
    "o = [0, 0, 0, 1]\n",
    "\n",
    "# One Cell RNN input_dim (4) -> output_dim (2), sequence: 5 (글자가 5개)\n",
    "hidden_size = 2\n",
    "x_data = np.array([[h, e, l, l, o]], dtype=np.float32)\n",
    "print(x_data.shape)\n",
    "pp.pprint(x_data)\n",
    "cell = tf.keras.layers.LSTMCell(units=hidden_size)\n",
    "layer = tf.keras.layers.RNN(cell=cell, return_sequences=True)\n",
    "whole_seq_output = layer(x_data)\n",
    "\n",
    "print(whole_seq_output.numpy()) # hidden_size가 2개, sequence가 5개라서 (1, 5, 2)의 shape를 띔"
   ]
  },
  {
   "cell_type": "code",
   "execution_count": 44,
   "id": "a3072778-a4ea-4a0a-a72f-4eb72d4a37ac",
   "metadata": {},
   "outputs": [
    {
     "name": "stdout",
     "output_type": "stream",
     "text": [
      "array([[[1., 0., 0., 0.],\n",
      "        [0., 1., 0., 0.],\n",
      "        [0., 0., 1., 0.],\n",
      "        [0., 0., 1., 0.],\n",
      "        [0., 0., 0., 1.]],\n",
      "\n",
      "       [[0., 1., 0., 0.],\n",
      "        [0., 0., 0., 1.],\n",
      "        [0., 0., 1., 0.],\n",
      "        [0., 0., 1., 0.],\n",
      "        [0., 0., 1., 0.]],\n",
      "\n",
      "       [[0., 0., 1., 0.],\n",
      "        [0., 0., 1., 0.],\n",
      "        [0., 1., 0., 0.],\n",
      "        [0., 1., 0., 0.],\n",
      "        [0., 0., 1., 0.]]], dtype=float32)\n",
      "[[[-0.12652412  0.08361943]\n",
      "  [ 0.01670807 -0.02272644]\n",
      "  [-0.00247627 -0.14991215]\n",
      "  [-0.03121914 -0.234981  ]\n",
      "  [-0.07974035 -0.09825514]]\n",
      "\n",
      " [[ 0.06448857 -0.08847655]\n",
      "  [-0.02921549 -0.01475771]\n",
      "  [-0.04876291 -0.14934081]\n",
      "  [-0.05865896 -0.24049808]\n",
      "  [-0.07087338 -0.3035825 ]]\n",
      "\n",
      " [[-0.01849764 -0.13252404]\n",
      "  [-0.03950699 -0.22517744]\n",
      "  [ 0.04246341 -0.2227427 ]\n",
      "  [ 0.08268089 -0.24851772]\n",
      "  [ 0.0514898  -0.34509566]]]\n"
     ]
    }
   ],
   "source": [
    "# One Cell RNN input_dim(4) -> output_dim (2), sequence: 5, batch 3 (단어가 3개)\n",
    "# Batching input\n",
    "x_data = np.array([[h, e, l, l, o],\n",
    "                   [e, o, l, l, l],\n",
    "                   [l, l, e, e, l]], dtype=np.float32)\n",
    "pp.pprint(x_data)\n",
    "\n",
    "cell = tf.keras.layers.LSTMCell(units=hidden_size) \n",
    "layer = tf.keras.layers.RNN(cell=cell, return_sequences=True)\n",
    "whole_seq_output = layer(x_data)\n",
    "\n",
    "print(whole_seq_output.numpy()) # hidden_size가 2개, sequence가 5개, batch_size가 3이라서 (3, 5, 2)의 형태"
   ]
  }
 ],
 "metadata": {
  "kernelspec": {
   "display_name": "Python 3 (ipykernel)",
   "language": "python",
   "name": "python3"
  },
  "language_info": {
   "codemirror_mode": {
    "name": "ipython",
    "version": 3
   },
   "file_extension": ".py",
   "mimetype": "text/x-python",
   "name": "python",
   "nbconvert_exporter": "python",
   "pygments_lexer": "ipython3",
   "version": "3.11.0rc1"
  }
 },
 "nbformat": 4,
 "nbformat_minor": 5
}
