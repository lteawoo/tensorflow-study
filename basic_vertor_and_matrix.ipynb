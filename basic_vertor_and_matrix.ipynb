{
 "cells": [
  {
   "cell_type": "code",
   "execution_count": 2,
   "id": "d27799a6-e411-42fa-b93f-8064e4b053da",
   "metadata": {},
   "outputs": [],
   "source": [
    "import numpy as np"
   ]
  },
  {
   "cell_type": "code",
   "execution_count": 8,
   "id": "6bd76848-f6b4-40dd-903d-c110c77034b1",
   "metadata": {},
   "outputs": [
    {
     "name": "stdout",
     "output_type": "stream",
     "text": [
      "텐서의 차원:  0\n",
      "텐서의 크기(shape):  ()\n"
     ]
    }
   ],
   "source": [
    "# 스칼라 (0차원 텐서)\n",
    "# 하나의 실수값으로 이루어진 데이터 (차원:Dimension, 0D 텐서라고도 함)\n",
    "d = np.array(5) # 하나의 실수 5\n",
    "print('텐서의 차원: ', d.ndim) # 축(axis)의 개수, 텐서의 차원\n",
    "print('텐서의 크기(shape): ', d.shape)"
   ]
  },
  {
   "cell_type": "code",
   "execution_count": 7,
   "id": "a7f3dae9-974b-4f6b-9e1a-1f47effda377",
   "metadata": {},
   "outputs": [
    {
     "name": "stdout",
     "output_type": "stream",
     "text": [
      "텐서의 차원:  1\n",
      "텐서의 크기(shape):  (4,)\n"
     ]
    }
   ],
   "source": [
    "# 벡터 (1차원 텐서)\n",
    "# 숫자를 배열한 것 (벡터의 차원과 텐서의 차원은 의미가 다름, 아래는 1D 텐서지만 4차원 벡터임)\n",
    "# 벡터에서의 차원은 하나의 축에 놓은 원소의 개수\n",
    "# 텐서에서의 차원은 축의 개수\n",
    "d = np.array([1, 2, 3, 4])\n",
    "print('텐서의 차원: ', d.ndim)\n",
    "print('텐서의 크기(shape): ', d.shape)"
   ]
  },
  {
   "cell_type": "code",
   "execution_count": 10,
   "id": "5169c0de-80d3-43d9-b82d-2fa305cc18ac",
   "metadata": {},
   "outputs": [
    {
     "name": "stdout",
     "output_type": "stream",
     "text": [
      "텐서의 차원:  2\n",
      "텐서의 크기(shape):  (3, 4)\n"
     ]
    }
   ],
   "source": [
    "# 행렬 (2차원 텐서)\n",
    "# 벡터를 배열한 것 (2D 텐서)\n",
    "# 텐서의 크기(shape)란 각축을 따라서 얼마나 많은 차원이 있는지를 나타낸 값\n",
    "d = np.array([[1, 2, 3, 4], [5, 6, 7, 8], [9, 10, 11, 12]]) # 3행 4열의 행렬\n",
    "print('텐서의 차원: ', d.ndim)\n",
    "print('텐서의 크기(shape): ', d.shape) # 3개의 큰 데이터, 그 안에 4개의 작은 데이터로 쉽게 생각하며 배워보자"
   ]
  },
  {
   "cell_type": "code",
   "execution_count": 11,
   "id": "37baf9b3-0615-4079-868e-84e5ca0e02f7",
   "metadata": {},
   "outputs": [
    {
     "name": "stdout",
     "output_type": "stream",
     "text": [
      "텐서의 차원:  3\n",
      "텐서의 크기(shape):  (2, 3, 5)\n"
     ]
    }
   ],
   "source": [
    "# 3D 텐서 (행렬 또는 2차원 텐서 단위를 한번 더 배열한 것)\n",
    "# 3차원부터 일반적인 텐서라고 부름(그 이하는 스칼라, 벡터, 행렬이라 부를 수 있으니까)\n",
    "d = np.array([[[1, 2, 3, 4, 5], [6, 7, 8, 9, 10], [10, 11, 12, 13, 14]],\n",
    "              [[15, 16, 17, 18, 19], [19, 20, 21, 22, 23], [23, 24, 25, 26, 27]]])\n",
    "print('텐서의 차원: ', d.ndim)\n",
    "print('텐서의 크기(shape): ', d.shape)"
   ]
  },
  {
   "cell_type": "code",
   "execution_count": 15,
   "id": "f3559259-1e83-41b0-833a-e4940fe44e40",
   "metadata": {},
   "outputs": [],
   "source": [
    "# 자연어 처리에서 자주보게되는 3D 텐서\n",
    "# 시퀀스 데이터를 표현할 때 자주 쓰임(단어의 시퀀스를 의미, 문장, 뉴스 기사등의 텍스트가 될 수 있음)\n",
    "# samples, timesteps, word_dim 등이 3D 텐서가 됨\n",
    "# 일괄로 처리하기 위한 데이터를 묶는 단위인 배치의 개념(batch_size, timesteps, word_dim)이 됨\n",
    "# samples, batch_size: 샘플의 개수\n",
    "# timestepsL 시퀀스의 길이\n",
    "# word_dim: 단어를 표현하는 벡터의 차원"
   ]
  },
  {
   "cell_type": "code",
   "execution_count": 14,
   "id": "de5af2bc-1639-4b36-89e3-c08dee38184a",
   "metadata": {},
   "outputs": [
    {
     "name": "stdout",
     "output_type": "stream",
     "text": [
      "텐서의 차원:  3\n",
      "텐서의 크기(shape):  (3, 3, 6)\n"
     ]
    }
   ],
   "source": [
    "# 자연어 처리에서의 3D 텐서 예제\n",
    "# 문서1: I like NLP\n",
    "# 문서2: I like DL\n",
    "# 문서3: DL is AI\n",
    "# 인공 신경망의 모델로 사용하려면, 각 단어를 벡터화 해야한다. 원 핫 인코딩 사용\n",
    "# 단어\tOne-hot vector\n",
    "# I\t\t[1 0 0 0 0 0]\n",
    "# like\t[0 1 0 0 0 0]\n",
    "# NLP\t[0 0 1 0 0 0]\n",
    "# DL\t[0 0 0 1 0 0]\n",
    "# is\t[0 0 0 0 1 0]\n",
    "# AI\t[0 0 0 0 0 1]\n",
    "# 벡터 데이터를 한꺼번에 입력하려면 다수를 묶어서 다음과 같이 표현함\n",
    "d = np.array([[[1, 0, 0, 0, 0, 0], [0, 1, 0, 0, 0, 0], [0, 0, 1, 0, 0, 0]],  \n",
    "[[1, 0, 0, 0, 0, 0], [0, 1, 0, 0, 0, 0], [0, 0, 0, 1, 0, 0]],  \n",
    "[[0, 0, 0, 1, 0, 0], [0, 0, 0, 0, 1, 0], [0, 0, 0, 0, 0, 1]]])\n",
    "print('텐서의 차원: ', d.ndim)\n",
    "print('텐서의 크기(shape): ', d.shape) # 3, 3, 6의 크기를 가지는 3D 텐서\n"
   ]
  },
  {
   "cell_type": "code",
   "execution_count": null,
   "id": "8c86be98-ecb7-4252-a01c-1132a054ef4b",
   "metadata": {},
   "outputs": [],
   "source": []
  }
 ],
 "metadata": {
  "kernelspec": {
   "display_name": "Python 3 (ipykernel)",
   "language": "python",
   "name": "python3"
  },
  "language_info": {
   "codemirror_mode": {
    "name": "ipython",
    "version": 3
   },
   "file_extension": ".py",
   "mimetype": "text/x-python",
   "name": "python",
   "nbconvert_exporter": "python",
   "pygments_lexer": "ipython3",
   "version": "3.11.0rc1"
  }
 },
 "nbformat": 4,
 "nbformat_minor": 5
}
