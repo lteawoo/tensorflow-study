{
 "cells": [
  {
   "cell_type": "code",
   "execution_count": 1,
   "id": "f2226517-6a17-4e58-a533-ce3a3c2edacc",
   "metadata": {},
   "outputs": [
    {
     "name": "stderr",
     "output_type": "stream",
     "text": [
      "2024-03-02 07:01:05.503283: I tensorflow/core/platform/cpu_feature_guard.cc:182] This TensorFlow binary is optimized to use available CPU instructions in performance-critical operations.\n",
      "To enable the following instructions: AVX2 FMA, in other operations, rebuild TensorFlow with the appropriate compiler flags.\n"
     ]
    }
   ],
   "source": [
    "import numpy as np\n",
    "import tensorflow as tf\n",
    "from tensorflow.keras.layers import SimpleRNN, LSTM, Bidirectional"
   ]
  },
  {
   "cell_type": "code",
   "execution_count": 4,
   "id": "b5f75db1-06e4-4862-9cb3-4b97dd55d986",
   "metadata": {},
   "outputs": [
    {
     "name": "stdout",
     "output_type": "stream",
     "text": [
      "(4, 5)\n"
     ]
    }
   ],
   "source": [
    "train_X =  [[0.1, 4.2, 1.5, 1.1, 2.8], [1.0, 3.1, 2.5, 0.7, 1.1], [0.3, 2.1, 1.5, 2.1, 0.1], [2.2, 1.4, 0.5, 0.9, 1.1]]\n",
    "print(np.shape(train_X)) # 단어 벡터의 차원 5, 문장의 길이 4\n",
    "# 4번의 시점(timesteps)가 존재하고, 각 시점마다 5개의 단어 벡터가 입력으로 사용됨."
   ]
  },
  {
   "cell_type": "code",
   "execution_count": 7,
   "id": "5fbed42c-e9ea-4679-9791-3b2fe22a0f80",
   "metadata": {},
   "outputs": [
    {
     "name": "stdout",
     "output_type": "stream",
     "text": [
      "(1, 4, 5)\n"
     ]
    }
   ],
   "source": [
    "# 단 RNN은 2D텐서가 아니고 3D 텐서를 입력으로 받으므로 배치 크기 1을 추가\n",
    "train_X = [[[0.1, 4.2, 1.5, 1.1, 2.8], [1.0, 3.1, 2.5, 0.7, 1.1], [0.3, 2.1, 1.5, 2.1, 0.1], [2.2, 1.4, 0.5, 0.9, 1.1]]]\n",
    "train_X = np.array(train_X, dtype=np.float32)\n",
    "print(train_X.shape) # batch_size는 1이고 RNN이 학번에 학습하는 양"
   ]
  },
  {
   "cell_type": "code",
   "execution_count": 9,
   "id": "016dad15-ce82-43df-8180-daddece51441",
   "metadata": {},
   "outputs": [
    {
     "name": "stdout",
     "output_type": "stream",
     "text": [
      "hidden_state, [[-0.6358631  0.9584665 -0.8605274]], shape: (1, 3)\n"
     ]
    }
   ],
   "source": [
    "#SimpleRNN의 이해\n",
    "\n",
    "rnn = SimpleRNN(3) # 은닉 상태의 크기 3\n",
    "# rnn = SimpleRNN(3, return_sequences = False, return_state=False)와 동일\n",
    "hidden_state = rnn(train_X)\n",
    "\n",
    "# 마지막 시점의 은닉 상태 (return_sequences = FALSE 이므로)\n",
    "print('hidden_state, {}, shape: {}'.format(hidden_state, hidden_state.shape))\n",
    "# 1,3 크기의 텐서가 출력됨"
   ]
  },
  {
   "cell_type": "code",
   "execution_count": 11,
   "id": "60f4fdb2-508b-4d52-89f3-dbdcf43add56",
   "metadata": {},
   "outputs": [
    {
     "name": "stdout",
     "output_type": "stream",
     "text": [
      "hidden states = [[[-0.99610096  0.99202013  0.99230736]\n",
      "  [-0.7448218   0.99385846  0.90548515]\n",
      "  [ 0.80619574  0.45831093  0.92525667]\n",
      "  [-0.9695835   0.27544782  0.9586299 ]]], shape: (1, 4, 3)\n"
     ]
    }
   ],
   "source": [
    "#return_sequences=True : 모든 시점(timestep4이므로 4개의 시점)에 대한 은닉 상태의 값을 출력하므로 (1, 4, 3)의 크기를 가지는 출력값이 나올 것임\n",
    "rnn = SimpleRNN(3, return_sequences=True)\n",
    "hidden_states = rnn(train_X)\n",
    "\n",
    "print('hidden states = {}, shape: {}'.format(hidden_states, hidden_states.shape))"
   ]
  },
  {
   "cell_type": "code",
   "execution_count": 16,
   "id": "f1e108f9-cb90-4d19-b48c-6c230e7daa6c",
   "metadata": {},
   "outputs": [
    {
     "name": "stdout",
     "output_type": "stream",
     "text": [
      "hidden states = [[[ 0.659799   -0.99954146 -0.7778292 ]\n",
      "  [ 0.37334204 -0.98794866 -0.9699287 ]\n",
      "  [ 0.9119409  -0.30625758 -0.9881479 ]\n",
      "  [ 0.77707785 -0.9647821   0.28118294]]], shape: (1, 4, 3)\n",
      "last hidden state = [[ 0.77707785 -0.9647821   0.28118294]], shape: (1, 3)\n"
     ]
    }
   ],
   "source": [
    "#return_state가 True일 경우 return_sequences와 상관없이 마지막 시점의 은닉상태를 출력\n",
    "#둘다 True이면 두개의 출력을 리턴\n",
    "rnn = SimpleRNN(3, return_state=True, return_sequences=True)\n",
    "hidden_states, last_state = rnn(train_X)\n",
    "\n",
    "print('hidden states = {}, shape: {}'.format(hidden_states, hidden_states.shape))\n",
    "print('last hidden state = {}, shape: {}'.format(last_state, last_state.shape))"
   ]
  },
  {
   "cell_type": "code",
   "execution_count": 21,
   "id": "15bd8b91-b6fb-4818-8e86-8136bef3ca4e",
   "metadata": {},
   "outputs": [
    {
     "name": "stdout",
     "output_type": "stream",
     "text": [
      "hidden states = [[ 0.9975329  -0.92157096  0.0579496 ]], shape: (1, 3)\n",
      "last hidden state = [[ 0.9975329  -0.92157096  0.0579496 ]], shape: (1, 3)\n"
     ]
    }
   ],
   "source": [
    "# return_sequences False인데 return_state True인 경우는, 두개의 출력 모두 마지막 은닉 상태\n",
    "rnn = SimpleRNN(3, return_state=True, return_sequences=False)\n",
    "hidden_states, last_state = rnn(train_X)\n",
    "\n",
    "print('hidden states = {}, shape: {}'.format(hidden_states, hidden_states.shape))\n",
    "print('last hidden state = {}, shape: {}'.format(last_state, last_state.shape))"
   ]
  }
 ],
 "metadata": {
  "kernelspec": {
   "display_name": "Python 3 (ipykernel)",
   "language": "python",
   "name": "python3"
  },
  "language_info": {
   "codemirror_mode": {
    "name": "ipython",
    "version": 3
   },
   "file_extension": ".py",
   "mimetype": "text/x-python",
   "name": "python",
   "nbconvert_exporter": "python",
   "pygments_lexer": "ipython3",
   "version": "3.11.0rc1"
  }
 },
 "nbformat": 4,
 "nbformat_minor": 5
}
